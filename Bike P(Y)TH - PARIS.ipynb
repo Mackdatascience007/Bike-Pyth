{
 "cells": [
  {
   "cell_type": "code",
   "execution_count": 1,
   "metadata": {},
   "outputs": [
    {
     "name": "stdout",
     "output_type": "stream",
     "text": [
      "<class 'pandas.core.frame.DataFrame'>\n",
      "RangeIndex: 594554 entries, 0 to 594553\n",
      "Data columns (total 29 columns):\n",
      " #   Column             Non-Null Count   Dtype  \n",
      "---  ------             --------------   -----  \n",
      " 0   Unnamed: 0         594554 non-null  int64  \n",
      " 1   idcompteur         594554 non-null  object \n",
      " 2   nomcompteur        594554 non-null  object \n",
      " 3   idsite             594554 non-null  float64\n",
      " 4   nomsite            594554 non-null  object \n",
      " 5   comptagehoraire    594554 non-null  float64\n",
      " 6   dateheurecomptage  594554 non-null  object \n",
      " 7   dateinstall        594554 non-null  object \n",
      " 8   photo              594554 non-null  object \n",
      " 9   coord              594554 non-null  object \n",
      " 10  date               594554 non-null  object \n",
      " 11  datemois           594554 non-null  object \n",
      " 12  year               594554 non-null  float64\n",
      " 13  day                594554 non-null  float64\n",
      " 14  weekday            594554 non-null  float64\n",
      " 15  weekofyear         594554 non-null  int64  \n",
      " 16  month              594554 non-null  float64\n",
      " 17  hour               594554 non-null  float64\n",
      " 18  mois               594554 non-null  object \n",
      " 19  jourdelasemaine    594554 non-null  object \n",
      " 20  numidcompteur      594554 non-null  int64  \n",
      " 21  lat                594554 non-null  float64\n",
      " 22  long               594554 non-null  float64\n",
      " 23  jourdegreve        594554 non-null  int64  \n",
      " 24  meteo              594554 non-null  int64  \n",
      " 25  meteo_cat          594554 non-null  object \n",
      " 26  holiday            594554 non-null  int64  \n",
      " 27  vacances_zone_c    594554 non-null  int64  \n",
      " 28  arrondissement     594554 non-null  int64  \n",
      "dtypes: float64(9), int64(8), object(12)\n",
      "memory usage: 131.5+ MB\n"
     ]
    }
   ],
   "source": [
    "reload = False\n",
    "# Import des bibliothèques pour analyse\n",
    "import folium\n",
    "import pandas as pd\n",
    "import numpy as np\n",
    "import matplotlib.pyplot as plt\n",
    "import seaborn as sns\n",
    "from sklearn.decomposition import PCA\n",
    "from sklearn.preprocessing import StandardScaler,OneHotEncoder\n",
    "from sklearn.model_selection import train_test_split,GridSearchCV,cross_validate\n",
    "from sklearn.linear_model import Ridge, LassoCV, Lasso,LinearRegression\n",
    "from sklearn.ensemble import RandomForestClassifier\n",
    "\n",
    "import Bibliotheques.bikebiblio as bike\n",
    "import Bibliotheques.ReadAndCleanDataBike as dataCleaning\n",
    "if reload == True :\n",
    "    df = dataCleaning.readAndClean('Datasets/Bike P(Y)TH - PARIS.csv',';')\n",
    "else:\n",
    "    df = dataCleaning.LoadSaved()\n",
    "df.info()"
   ]
  },
  {
   "cell_type": "code",
   "execution_count": null,
   "metadata": {},
   "outputs": [],
   "source": [
    "# Affichage de la description du dataframe df\n",
    "# Création d'un DataFrame avec les variables descriptives uniquement\n",
    "df_descritive = df.drop(columns=[\"nomcompteur\", \"idsite\",'nomsite','dateinstall','photo','coord','year','day','weekofyear','lat','long'\n",
    "                                ,'arrondissement','jourdelasemaine','mois'])\n",
    "df_descritive.info()"
   ]
  },
  {
   "cell_type": "code",
   "execution_count": null,
   "metadata": {},
   "outputs": [],
   "source": [
    "## RELATION ENTRE VARIABLES NUMERIQUES  \"idsite\" vs \"comptagehoraire\"\n",
    "from scipy.stats import pearsonr\n",
    "pd.DataFrame(pearsonr(df_descritive['numidcompteur'],df_descritive['comptagehoraire'] ), index=['coef_pearson','p_value'],columns=['Result'] )\n",
    "# ces 2 variables sont décorelées"
   ]
  },
  {
   "cell_type": "code",
   "execution_count": null,
   "metadata": {},
   "outputs": [],
   "source": [
    "# Affichage de la heat map des corrélations de toutes les variables qualitatives de df\n",
    "df_descritive.info()\n",
    "dfcor = df_descritive.corr()\n",
    "fig, ax = plt.subplots(figsize=(12,12))\n",
    "sns.heatmap(dfcor, annot= True, ax= ax, cmap=\"plasma\");"
   ]
  },
  {
   "cell_type": "code",
   "execution_count": null,
   "metadata": {},
   "outputs": [],
   "source": [
    "### RELATION ENTRE VARIABLES NUMERIQUES ET CATEGORIELLES : \"idsite vs(Coord, nomsite,photo,nomcompteur)\"###\n",
    "    \n",
    "import statsmodels.api\n",
    "result = statsmodels.formula.api.ols('idsite ~ coord', data = df).fit()\n",
    "table1 = statsmodels.api.stats.anova_lm(result)\n",
    "display(table1)\n",
    "# le site  fortement correlé aux coordonnées géo.#\n",
    "\n",
    "\n",
    "result = statsmodels.formula.api.ols('idsite  ~ nomsite', data = df).fit()\n",
    "table2 = statsmodels.api.stats.anova_lm(result)\n",
    "display(table2)\n",
    "#le site  fortement correlé   au nom du lieu.#\n",
    "\n",
    "\n",
    "result = statsmodels.formula.api.ols('idsite  ~ photo', data = df).fit()\n",
    "table3 = statsmodels.api.stats.anova_lm(result)\n",
    "display(table3)\n",
    "#le site  fortement correlé à la photo du site.#\n",
    "\n",
    "result = statsmodels.formula.api.ols('idsite  ~ nomcompteur', data = df).fit()\n",
    "table4 = statsmodels.api.stats.anova_lm(result)\n",
    "display(table4)\n",
    "#le site  fortement correlé du  nom du COMPTEUR.#"
   ]
  },
  {
   "cell_type": "markdown",
   "metadata": {},
   "source": [
    "DATAVIZ"
   ]
  },
  {
   "cell_type": "code",
   "execution_count": null,
   "metadata": {
    "scrolled": false
   },
   "outputs": [],
   "source": [
    "# Répartition du comptage par mois\n",
    "functions_to_apply = {\n",
    "    'comptagehoraire' : lambda comptage: comptage.mean(),\n",
    "    'month' : lambda month: month.mean()\n",
    "    }\n",
    "\n",
    "dfparmois = df.groupby('mois',as_index = False).agg(functions_to_apply)\n",
    "dfparmois = dfparmois.sort_values(by='month', ascending=True)\n",
    "dfparmois=dfparmois.reset_index()\n",
    "\n",
    "fig, ax = plt.subplots(figsize=(10,10))\n",
    "sns.barplot(x=dfparmois.mois, y=dfparmois[\"comptagehoraire\"], ax=ax)\n",
    "ax.set_xticklabels(ax.get_xticklabels(), rotation=40, ha=\"right\");\n",
    "ax.set_title(\"Répartition comptage par mois\")\n",
    "ax.set_ylabel('Nombre moyen de passage par heure')\n",
    "\n",
    "\n",
    "plt.show()\n",
    "display(dfparmois.drop(columns=['month','index']))"
   ]
  },
  {
   "cell_type": "code",
   "execution_count": null,
   "metadata": {},
   "outputs": [],
   "source": [
    "# Répartition du comptage par mois\n",
    "plt.figure(figsize=(12,12))\n",
    "sns.lmplot(x=\"month\", y=\"comptagehoraire\", data=dfparmois, order=3)\n",
    "plt.title('Répartition comptage par mois');\n",
    "plt.xlabel(\"Mois\")\n",
    "plt.ylabel(\"Nombre moyen de passage par heure\")"
   ]
  },
  {
   "cell_type": "markdown",
   "metadata": {},
   "source": [
    "Au vue de ces 2 graphiques, il y a une tendance à privilégier ce mode de transport en fin d'année. \n",
    "En effet, les mois de novembre et décembre comptabilise le plus de cycliste.\n",
    "Il serait intéressant de voir la corrélation entre cette tendance et des évènements sur la circulation qui serait arrivés sur la période ?"
   ]
  },
  {
   "cell_type": "code",
   "execution_count": null,
   "metadata": {},
   "outputs": [],
   "source": [
    "# Répartition par jour \n",
    "functions_to_apply = {\n",
    "    'comptagehoraire' : lambda comptage: comptage.mean(),\n",
    "    'weekday' : lambda weekday: weekday.mean()\n",
    "    }\n",
    "\n",
    "dfparjour = df.groupby('jourdelasemaine',as_index = False).agg(functions_to_apply)\n",
    "dfparjour = dfparjour.sort_values(by='weekday', ascending=True)\n",
    "dfparjour.reset_index()\n",
    "\n",
    "display(dfparjour.drop(columns=['weekday']))\n",
    "fig, ax = plt.subplots(figsize=(10,10))\n",
    "sns.barplot(x=dfparjour.jourdelasemaine, y=dfparjour[\"comptagehoraire\"], ax=ax)\n",
    "ax.set_xticklabels(ax.get_xticklabels(), rotation=40, ha=\"right\");\n",
    "plt.xlabel(\"\")\n",
    "plt.ylabel(\"Nombre moyen de passage par heure\")\n",
    "\n",
    "plt.show()"
   ]
  },
  {
   "cell_type": "markdown",
   "metadata": {},
   "source": [
    "On notera une baisse du trafic le weekend, ce mode de transport semblerait plus destibné à aller au travail que pour se promener."
   ]
  },
  {
   "cell_type": "code",
   "execution_count": null,
   "metadata": {
    "scrolled": false
   },
   "outputs": [],
   "source": [
    "functions_to_apply = {\n",
    "    'comptagehoraire' : lambda comptage: comptage.mean()\n",
    "    }\n",
    "\n",
    "dfparmoisannee = df.sort_values(by='datemois', ascending=True).groupby('datemois',as_index = False).agg(functions_to_apply)\n",
    "#dfparmoisannee = dfparmoisannee.sort_values(by='datemois', ascending=True)\n",
    "dfparmoisannee.reset_index()\n",
    "\n",
    "fig, ax = plt.subplots(figsize=(10,10))\n",
    "sns.barplot(x=dfparmoisannee.datemois, y=dfparmoisannee[\"comptagehoraire\"], ax=ax)\n",
    "ax.set_xticklabels(ax.get_xticklabels(), rotation=40, ha=\"right\");\n",
    "ax.set_title(\"Répartition comptage par mois\")\n",
    "ax.set_ylabel('Nombre moyen de passage par heure')\n",
    "ax.set_xlabel('')\n",
    "\n",
    "\n",
    "plt.show()"
   ]
  },
  {
   "cell_type": "markdown",
   "metadata": {},
   "source": [
    "La fin d'année 2019 rencontre la plus grosse affluence de cycliste, il y a suûrement un parallèle avec les grèves intervenus fin 2019 et le ras le bol des metro user."
   ]
  },
  {
   "cell_type": "code",
   "execution_count": null,
   "metadata": {
    "scrolled": false
   },
   "outputs": [],
   "source": [
    "functions_to_apply = {\n",
    "    'comptagehoraire' : lambda comptage: comptage.mean(),\n",
    "    'lat' : lambda lat:lat.max(),\n",
    "    'long' : lambda long:long.max()\n",
    "}\n",
    "\n",
    "df_grouped = df.groupby('idcompteur').agg(functions_to_apply)\n",
    "\n",
    "df_grouped = df_grouped.dropna()\n",
    "df_grouped.describe()\n",
    "\n",
    "\n",
    "def getColor(nb_passage,nb_max):\n",
    "    tier_max = nb_max/3\n",
    "    if(tier_max > nb_passage):\n",
    "        return '#ee114d'\n",
    "    if( tier_max < nb_passage < (tier_max*2)):        \n",
    "        return '#eed311'\n",
    "    if((tier_max*2) < nb_passage  ):        \n",
    "        return '#28c0e2'\n",
    "    \n",
    "nb_max = df_grouped.comptagehoraire.max()\n",
    "\n",
    "map = folium.Map(width=550,height=350,location = [48.856578, 2.351828], zoom_start = 11, tiles='OpenStreetMap')\n",
    "for ligne in df_grouped.T:\n",
    "    t_radius = df_grouped.T[ligne].comptagehoraire/nb_max*30\n",
    "    folium.CircleMarker(\n",
    "       location = (df_grouped.T[ligne].lat, df_grouped.T[ligne].long),\n",
    "       radius = t_radius,\n",
    "       color = getColor(df_grouped.T[ligne].comptagehoraire,nb_max),\n",
    "       fill = True,\n",
    "       fill_color = getColor(df_grouped.T[ligne].comptagehoraire,nb_max),\n",
    "       popup = str(df_grouped.T[ligne].comptagehoraire)\n",
    "    ).add_to(map)\n",
    "\n",
    "folium.Choropleth(\n",
    "       geo_data='datas/departement-75-paris.geojson',fill_opacity=0.1\n",
    "                     \n",
    "    ).add_to(map)\n",
    "display(map)     \n",
    "\n"
   ]
  },
  {
   "cell_type": "markdown",
   "metadata": {},
   "source": [
    "Les visualisations suivantes permettent de voir le traffic par arrondissement.\n",
    "Ici sont visibles une visualisation à 16h, une à 1h du matin. \n",
    "Nous observons également la différence de fréquentation les weekend et en semaine"
   ]
  },
  {
   "cell_type": "code",
   "execution_count": null,
   "metadata": {
    "scrolled": false
   },
   "outputs": [],
   "source": [
    "\n",
    "display('A 16 heures')\n",
    "mask =  (df['hour']==16)   \n",
    "df_grouped,map = bike.GetMapParArrondissement(df,mask,True) \n",
    "display(map)\n",
    "\n",
    "display('A 1 heures')\n",
    "mask =  (df['hour']==1)\n",
    "df_grouped,map = bike.GetMapParArrondissement(df,mask,True) \n",
    "display(map)\n",
    "\n",
    "display('En semaine')\n",
    "mask =  (df['weekday']!=6) | (df['weekday']!=5)\n",
    "df_grouped,map = bike.GetMapParArrondissement(df,mask,True) \n",
    "display(map)\n",
    "\n",
    "display('Weekend')\n",
    "mask =  (df['weekday']==6)| (df['weekday']==5)\n",
    "df_grouped,map = bike.GetMapParArrondissement(df,mask,True) \n",
    "display(map)\n",
    "\n"
   ]
  },
  {
   "cell_type": "code",
   "execution_count": null,
   "metadata": {
    "scrolled": false
   },
   "outputs": [],
   "source": [
    "\n",
    "display('Jour de grève')\n",
    "mask =  (df['jourdegreve']==1)   \n",
    "df_grouped,map = bike.GetMapParArrondissement(df,mask,True) \n",
    "display(map)\n",
    "\n",
    "display('Jours fériés')\n",
    "mask =  (df['holiday']==1)\n",
    "df_grouped,map = bike.GetMapParArrondissement(df,mask,True) \n",
    "display(map)\n",
    "\n",
    "display('Vacances scolaires')\n",
    "mask =  (df['vacances_zone_c']==1)\n",
    "df_grouped,map = bike.GetMapParArrondissement(df,mask,True) \n",
    "display(map)\n",
    "\n",
    "display('Les autres')\n",
    "mask =   (df['holiday']==0) & (df['jourdegreve']==0) & (df['vacances_zone_c']==0)\n",
    "df_grouped,map = bike.GetMapParArrondissement(df,mask,True) \n",
    "display(map)\n",
    "\n"
   ]
  },
  {
   "cell_type": "code",
   "execution_count": null,
   "metadata": {
    "scrolled": false
   },
   "outputs": [],
   "source": [
    "for temps in df['meteo_cat'].unique():\n",
    "    print(temps)\n",
    "    mask = df.meteo_cat == temps\n",
    "    df_grouped,map = bike.GetMapParArrondissement(df,mask,True) \n",
    "    display(map)"
   ]
  },
  {
   "cell_type": "code",
   "execution_count": null,
   "metadata": {},
   "outputs": [],
   "source": [
    "functions_to_apply = {\n",
    "    'comptagehoraire' : lambda comptage: comptage.mean()\n",
    "    }\n",
    "fig, (ax1, ax2,ax3) = plt.subplots(1, 3, figsize=(20,10))\n",
    "dfgrev = df.groupby('jourdegreve',as_index = False).agg(functions_to_apply)\n",
    "    \n",
    "sns.barplot(x=dfgrev.jourdegreve, y=dfgrev[\"comptagehoraire\"], ax=ax1)\n",
    "ax1.set_xticklabels(ax1.get_xticklabels(), rotation=40, ha=\"right\");\n",
    "ax1.set_title(\"Jour de grève\")\n",
    "ax1.set_ylabel('Nombre moyen de passage par heure')\n",
    "ax1.set_xlabel('')\n",
    "\n",
    "functions_to_apply = {\n",
    "    'comptagehoraire' : lambda comptage: comptage.mean()\n",
    "    }\n",
    "dfvacances = df.groupby('vacances_zone_c',as_index = False).agg(functions_to_apply)    \n",
    "sns.barplot(x=dfvacances.vacances_zone_c, y=dfvacances[\"comptagehoraire\"], ax=ax2)\n",
    "ax2.set_xticklabels(ax2.get_xticklabels(), rotation=40, ha=\"right\")\n",
    "ax2.set_title(\"Vacances Scolaire\")\n",
    "ax2.set_ylabel('Nombre moyen de passage par heure')\n",
    "ax2.set_xlabel('')\n",
    "\n",
    "functions_to_apply = {\n",
    "    'comptagehoraire' : lambda comptage: comptage.mean()\n",
    "    }\n",
    "\n",
    "dfferie = df.groupby('holiday',as_index = False).agg(functions_to_apply)\n",
    "    \n",
    "sns.barplot(x=dfferie.holiday, y=dfferie[\"comptagehoraire\"], ax=ax3)\n",
    "ax3.set_xticklabels(ax3.get_xticklabels(), rotation=40, ha=\"right\")\n",
    "ax3.set_title(\"Jours Fériés\")\n",
    "ax3.set_ylabel('Nombre moyen de passage par heure')\n",
    "ax3.set_xlabel('')\n",
    "\n",
    "\n",
    "plt.show()"
   ]
  },
  {
   "cell_type": "markdown",
   "metadata": {},
   "source": [
    "Ici nous pouvons voir les spots les plus actifs en terme de comptage de cyclistes."
   ]
  },
  {
   "cell_type": "code",
   "execution_count": null,
   "metadata": {
    "scrolled": false
   },
   "outputs": [],
   "source": [
    "functions_to_apply = {\n",
    "    'comptagehoraire' : lambda comptage: comptage.mean(),\n",
    "    'nomsite' : lambda comptage: comptage.max(),\n",
    "    'arrondissement' : lambda comptage: comptage.max()\n",
    "    }\n",
    "\n",
    "dfparcompteur = df.groupby(['idsite'],as_index = True).agg(functions_to_apply)\n",
    "dfparcompteur = dfparcompteur.sort_values(by='comptagehoraire', ascending=True)\n",
    "dfparcompteur.reset_index()\n",
    "\n",
    "df_head = dfparcompteur.head()\n",
    "fig, (ax1, ax2) = plt.subplots(1, 2, figsize=(20,10))\n",
    "sns.barplot(x=df_head.nomsite, y=df_head[\"comptagehoraire\"], ax=ax1)\n",
    "ax1.set_xticklabels(ax1.get_xticklabels(), rotation=40, ha=\"right\");\n",
    "ax1.set_title(\"Sites ayant le moins de passages\")\n",
    "ax1.set_ylabel('Nombre moyen de passage par heure')\n",
    "ax1.set_xlabel('')\n",
    "\n",
    "\n",
    "df_tail = dfparcompteur.tail()\n",
    "sns.barplot(x=df_tail.nomsite, y=df_tail[\"comptagehoraire\"], ax=ax2)\n",
    "ax2.set_xticklabels(ax2.get_xticklabels(), rotation=40, ha=\"right\");\n",
    "ax2.set_title(\"Sites ayant le plus de passages\")\n",
    "ax2.set_ylabel('Nombre moyen de passage par heure')\n",
    "ax2.set_xlabel('')\n",
    "\n",
    "\n",
    "plt.show()\n"
   ]
  },
  {
   "cell_type": "markdown",
   "metadata": {},
   "source": [
    "Les spots qui comptabilisent le plus de cycliste sont dans le 10ème LAFAYETTE, dans le 19ème quai de la Marne et dans le 11ème bvd Voltaire. A quoi est dû cette concentration ? Est ce les aménagements en pistes cyclables ? \n",
    "Est des lieux plus attractifs pour les sorties, le travail ? Il serait bon de les comparés avec les points les moins attractifs pour faire une évaluation des différences et comprendre la tendance."
   ]
  },
  {
   "cell_type": "markdown",
   "metadata": {},
   "source": [
    "Ainsi, nous avons pu voir plusieurs tendances sur les périodes qui comptabilisent le plus de comptage, les lieux les plus chaud ou les disparités semaine/weekend.\n",
    "Il serait bon de croiser toutes ces données et voir si un modèle de prédiction pouvait nous aider à répondre à notre problématique et permettre d'anticiper ces mouvements."
   ]
  },
  {
   "cell_type": "code",
   "execution_count": null,
   "metadata": {
    "scrolled": true
   },
   "outputs": [],
   "source": [
    "g = sns.PairGrid(df_descritive, hue= 'numidcompteur')\n",
    "g.map(plt.scatter, alpha=0.6)\n",
    "g.add_legend()"
   ]
  },
  {
   "cell_type": "code",
   "execution_count": null,
   "metadata": {},
   "outputs": [],
   "source": [
    "# Modélisation d'une régression linéaire multiple \n",
    "plt.figure(figsize= (10,8))\n",
    "plt.scatter(df['hour'], df.comptagehoraire, color = 'darkblue');\n"
   ]
  },
  {
   "cell_type": "code",
   "execution_count": null,
   "metadata": {},
   "outputs": [],
   "source": [
    "target = df['comptagehoraire']\n",
    "data = df[['hour']]\n",
    "\n",
    "slr = LinearRegression()\n",
    "slr.fit(data, target)"
   ]
  },
  {
   "cell_type": "code",
   "execution_count": null,
   "metadata": {},
   "outputs": [],
   "source": [
    "target = df_descritive['comptagehoraire']\n",
    "data = df_descritive[['numidcompteur','weekday','month','hour','jourdegreve','holiday','vacances_zone_c']]\n",
    "df_unique = df_descritive[df['arrondissement'] == 19]\n",
    "print(df_unique.info())\n",
    "target = df_unique['comptagehoraire']\n",
    "data = df_unique[['weekday','month','hour','jourdegreve','holiday','vacances_zone_c']]\n",
    "slr = LinearRegression()\n",
    "slr.fit(data, target)"
   ]
  },
  {
   "cell_type": "code",
   "execution_count": null,
   "metadata": {},
   "outputs": [],
   "source": [
    "print(slr.intercept_)\n",
    "print(slr.coef_)"
   ]
  },
  {
   "cell_type": "code",
   "execution_count": null,
   "metadata": {},
   "outputs": [],
   "source": [
    "cross_validate(slr, data, target, return_train_score=True, cv=4)"
   ]
  },
  {
   "cell_type": "code",
   "execution_count": null,
   "metadata": {},
   "outputs": [],
   "source": [
    "cross_validate(slr, data, target, return_train_score=True, cv=4)['test_score'].mean()"
   ]
  },
  {
   "cell_type": "code",
   "execution_count": null,
   "metadata": {},
   "outputs": [],
   "source": [
    "pred_target = slr.predict(data)\n",
    "residus = pred_target - target\n",
    "residus.describe()"
   ]
  },
  {
   "cell_type": "code",
   "execution_count": null,
   "metadata": {},
   "outputs": [],
   "source": [
    "from sklearn.feature_selection import f_regression\n",
    "print('F-score:', f_regression(data, target)[0], 'p-value :', f_regression(data, target)[1])"
   ]
  },
  {
   "cell_type": "code",
   "execution_count": null,
   "metadata": {
    "scrolled": true
   },
   "outputs": [],
   "source": [
    "def rmse(predictions, targets):\n",
    "    return np.sqrt(((predictions - targets) ** 2).mean())\n",
    "rmse(pred_target, target)"
   ]
  },
  {
   "cell_type": "markdown",
   "metadata": {},
   "source": [
    "# Modélissation Lasso et RandomForest\n",
    "Dans un premier temps, il a été décidé d'utiliser ces modèles sur l'ensemble du jeux de données. Cependant, les résultats n'étaient pas bon, et le temps de traitement était trop élevé.\n",
    "Nous avons décidé de diviser notre dataset par arrondissement pour voir si par arrondissement les modèles était plus fiable.Le temps de traitement est ainsi devenu viable.\n",
    "\n",
    "Paramètres test Lasso\n",
    "Pour le modèle Lasso, nous avons utilisé les valeurs d'alpha suivantes : [10,1,0.1,0.001,0.0005]\n",
    "Pour le modèle Random Forest, nous avons utilisé les paramètres de tests suivants:\n",
    "param_grid_rf_  = [{'n_estimators': [10, 50, 100, 1000],\n",
    "                         'min_samples_leaf': [1, 3, 5],\n",
    "                         'max_features': ['sqrt', 'log2']}]\n",
    "                         \n",
    "Voici pour chaque arrondissement les résultats des tests sur les modèles Lasso et Forest; ainsi que pour chacun des deux les arrondissements ayant obtenus les meilleurs scores.\n"
   ]
  },
  {
   "cell_type": "code",
   "execution_count": null,
   "metadata": {},
   "outputs": [],
   "source": [
    "def testLasso(X_train, X_test, y_train, y_test):\n",
    "    vec = [10,1,0.1,0.001,0.0005]\n",
    "    lasso_reg = LassoCV(alphas= vec)\n",
    "    lasso_reg.fit(X_train, y_train) \n",
    "    lasso_r = Lasso(lasso_reg.alpha_)\n",
    "    lasso_r.fit(X_train, y_train)\n",
    "    return lasso_r.score(X_test, y_test)"
   ]
  },
  {
   "cell_type": "code",
   "execution_count": null,
   "metadata": {},
   "outputs": [],
   "source": [
    "def testRandomForest(X_train, X_test, y_train, y_test):\n",
    "    clf_rf  = RandomForestClassifier()\n",
    "    param_grid_rf  = [{'n_estimators': [10, 100],\n",
    "                         'min_samples_leaf': [1],\n",
    "                         'max_features': ['sqrt']}]\n",
    "    gridcv = GridSearchCV(clf_rf,\n",
    "                           param_grid=param_grid_rf,\n",
    "                           scoring='accuracy',\n",
    "                           cv=2) \n",
    "\n",
    "    gridcv.fit(X_train, y_train)\n",
    "    return gridcv.score(X_test, y_test)"
   ]
  },
  {
   "cell_type": "code",
   "execution_count": null,
   "metadata": {
    "scrolled": false
   },
   "outputs": [],
   "source": [
    "\n",
    "resultatsTest = pd.DataFrame( index = df.arrondissement.unique(), columns = ['arrondissement','scoreLasso','scoreForest'])\n",
    "resultatsTest.sort_index()\n",
    "for arrondissement in resultatsTest.T:   \n",
    "    print(arrondissement)\n",
    "    df_unique = df_descritive[df['arrondissement'] == arrondissement]\n",
    "    target = df_unique['comptagehoraire']\n",
    "    feats = df_unique[['weekday','month','hour','jourdegreve','holiday','vacances_zone_c']]\n",
    "    encoder=OneHotEncoder()\n",
    "    features_enc=encoder.fit_transform(feats)\n",
    "    X_train, X_test, y_train, y_test = train_test_split(feats, target, test_size=0.2)\n",
    "    \n",
    "    resultLasso = testLasso(X_train, X_test, y_train, y_test)\n",
    "    resultForest = testRandomForest(X_train, X_test, y_train, y_test)\n",
    "    resultatsTest.loc[arrondissement]= [arrondissement,resultLasso, resultForest ]\n",
    "    "
   ]
  },
  {
   "cell_type": "code",
   "execution_count": null,
   "metadata": {},
   "outputs": [],
   "source": [
    "resultatsTest = resultatsTest.sort_index()\n",
    "display(resultatsTest)\n",
    "resultLasso=resultatsTest[['arrondissement','scoreLasso']]\n",
    "resultForest=resultatsTest[['arrondissement','scoreForest']]\n",
    "\n",
    "display(resultLasso.sort_values(by='scoreLasso',ascending=False).head())\n",
    "display(resultForest.sort_values(by='scoreForest',ascending=False).head())"
   ]
  }
 ],
 "metadata": {
  "kernelspec": {
   "display_name": "Python 3",
   "language": "python",
   "name": "python3"
  },
  "language_info": {
   "codemirror_mode": {
    "name": "ipython",
    "version": 3
   },
   "file_extension": ".py",
   "mimetype": "text/x-python",
   "name": "python",
   "nbconvert_exporter": "python",
   "pygments_lexer": "ipython3",
   "version": "3.7.3"
  }
 },
 "nbformat": 4,
 "nbformat_minor": 2
}
