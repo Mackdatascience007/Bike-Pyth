{
 "cells": [
  {
   "cell_type": "code",
   "execution_count": 3,
   "metadata": {
    "scrolled": false
   },
   "outputs": [
    {
     "name": "stderr",
     "output_type": "stream",
     "text": [
      "C:\\Users\\yves-olivier.mukobo\\Anaconda3\\lib\\site-packages\\IPython\\core\\interactiveshell.py:3338: DtypeWarning: Columns (2,4) have mixed types.Specify dtype option on import or set low_memory=False.\n",
      "  if (await self.run_code(code, result,  async_=asy)):\n",
      "C:\\Users\\yves-olivier.mukobo\\Anaconda3\\lib\\site-packages\\pandas\\core\\arrays\\datetimes.py:1088: UserWarning: Converting to PeriodArray/Index representation will drop timezone information.\n",
      "  warnings.warn(\n"
     ]
    },
    {
     "name": "stdout",
     "output_type": "stream",
     "text": [
      "<class 'pandas.core.frame.DataFrame'>\n",
      "Int64Index: 594554 entries, 0 to 594553\n",
      "Data columns (total 28 columns):\n",
      " #   Column             Non-Null Count   Dtype              \n",
      "---  ------             --------------   -----              \n",
      " 0   idcompteur         594554 non-null  object             \n",
      " 1   nomcompteur        594554 non-null  object             \n",
      " 2   idsite             594554 non-null  float64            \n",
      " 3   nomsite            594554 non-null  object             \n",
      " 4   comptagehoraire    594554 non-null  float64            \n",
      " 5   dateheurecomptage  594554 non-null  datetime64[ns, UTC]\n",
      " 6   dateinstall        594554 non-null  datetime64[ns]     \n",
      " 7   photo              594554 non-null  object             \n",
      " 8   coord              594554 non-null  object             \n",
      " 9   date               594554 non-null  object             \n",
      " 10  datemois           594554 non-null  period[M]          \n",
      " 11  year               594554 non-null  float64            \n",
      " 12  day                594554 non-null  float64            \n",
      " 13  weekday            594554 non-null  float64            \n",
      " 14  weekofyear         594554 non-null  UInt32             \n",
      " 15  month              594554 non-null  float64            \n",
      " 16  hour               594554 non-null  float64            \n",
      " 17  mois               594554 non-null  object             \n",
      " 18  jourdelasemaine    594554 non-null  object             \n",
      " 19  numidcompteur      594554 non-null  int64              \n",
      " 20  lat                594554 non-null  float64            \n",
      " 21  long               594554 non-null  float64            \n",
      " 22  jourdegreve        594554 non-null  int64              \n",
      " 23  meteo              594554 non-null  category           \n",
      " 24  meteo_cat          594554 non-null  category           \n",
      " 25  holiday            594554 non-null  int64              \n",
      " 26  vacances_zone_c    594554 non-null  int64              \n",
      " 27  arrondissement     594554 non-null  int64              \n",
      "dtypes: UInt32(1), category(2), datetime64[ns, UTC](1), datetime64[ns](1), float64(9), int64(5), object(8), period[M](1)\n",
      "memory usage: 121.9+ MB\n"
     ]
    }
   ],
   "source": [
    "reload = True\n",
    "# Import des bibliothèques pour analyse\n",
    "import folium\n",
    "import pandas as pd\n",
    "import numpy as np\n",
    "import matplotlib.pyplot as plt\n",
    "import seaborn as sns\n",
    "from sklearn.decomposition import PCA\n",
    "from sklearn.preprocessing import StandardScaler\n",
    "from sklearn.model_selection import train_test_split,GridSearchCV\n",
    "from sklearn.linear_model import Ridge, LassoCV, Lasso\n",
    "from sklearn.ensemble import RandomForestClassifier\n",
    "\n",
    "import Bibliotheques.bikebiblio as bike\n",
    "import Bibliotheques.ReadAndCleanDataBike as dataCleaning\n",
    "if reload == True :\n",
    "    df = dataCleaning.readAndClean('Datasets/Bike P(Y)TH - PARIS.csv',';')\n",
    "else:\n",
    "    df = dataCleaning.LoadSaved()\n",
    "df.info()\n",
    "\n",
    "#display(df.drop(columns=[\"nomcompteur\", \"idsite\",'nomsite','dateinstall','photo','coord']).info())\n"
   ]
  },
  {
   "cell_type": "code",
   "execution_count": 9,
   "metadata": {},
   "outputs": [
    {
     "name": "stdout",
     "output_type": "stream",
     "text": [
      "<class 'pandas.core.frame.DataFrame'>\n",
      "RangeIndex: 594554 entries, 0 to 594553\n",
      "Data columns (total 14 columns):\n",
      " #   Column             Non-Null Count   Dtype  \n",
      "---  ------             --------------   -----  \n",
      " 0   Unnamed: 0         594554 non-null  int64  \n",
      " 1   idcompteur         594554 non-null  object \n",
      " 2   comptagehoraire    594554 non-null  float64\n",
      " 3   dateheurecomptage  594554 non-null  object \n",
      " 4   date               594554 non-null  object \n",
      " 5   weekday            594554 non-null  float64\n",
      " 6   month              594554 non-null  float64\n",
      " 7   hour               594554 non-null  float64\n",
      " 8   numidcompteur      594554 non-null  int64  \n",
      " 9   jourdegreve        594554 non-null  int64  \n",
      " 10  meteo              594554 non-null  int64  \n",
      " 11  meteo_cat          594554 non-null  object \n",
      " 12  holiday            594554 non-null  int64  \n",
      " 13  vacances_zone_c    594554 non-null  int64  \n",
      "dtypes: float64(4), int64(6), object(4)\n",
      "memory usage: 63.5+ MB\n"
     ]
    }
   ],
   "source": [
    "df_pertinente = df.drop(columns=[\"nomcompteur\", \"idsite\",'nomsite','dateinstall','photo','coord','year','day','weekofyear','lat','long'\n",
    "                                ,'arrondissement','jourdelasemaine','mois'])\n",
    "df_pertinente.info()"
   ]
  },
  {
   "cell_type": "code",
   "execution_count": 11,
   "metadata": {},
   "outputs": [
    {
     "data": {
      "image/png": "[encoded data removed]",
      "text/plain": [
       "<Figure size 864x864 with 2 Axes>"
      ]
     },
     "metadata": {
      "needs_background": "light"
     },
     "output_type": "display_data"
    }
   ],
   "source": [
    "# Affichage de la heat map des corrélations de toutes les variables qualitatives de df\n",
    "dfcor = df_pertinente.corr()\n",
    "fig, ax = plt.subplots(figsize=(12,12))\n",
    "sns.heatmap(dfcor, annot= True, ax= ax, cmap=\"plasma\");"
   ]
  },
  {
   "cell_type": "code",
   "execution_count": 61,
   "metadata": {
    "scrolled": false
   },
   "outputs": [
    {
     "name": "stdout",
     "output_type": "stream",
     "text": [
      "<class 'pandas.core.frame.DataFrame'>\n",
      "Int64Index: 594554 entries, 0 to 594553\n",
      "Data columns (total 28 columns):\n",
      " #   Column                  Non-Null Count   Dtype              \n",
      "---  ------                  --------------   -----              \n",
      " 0   idcompteur              594554 non-null  object             \n",
      " 1   nomcompteur             594554 non-null  object             \n",
      " 2   idsite                  594554 non-null  float64            \n",
      " 3   nomsite                 594554 non-null  object             \n",
      " 4   comptagehoraire         594554 non-null  float64            \n",
      " 5   dateheurecomptage       594554 non-null  datetime64[ns, UTC]\n",
      " 6   dateinstall             594554 non-null  datetime64[ns]     \n",
      " 7   photo                   594554 non-null  object             \n",
      " 8   coord                   594554 non-null  object             \n",
      " 9   date                    594554 non-null  object             \n",
      " 10  year                    594554 non-null  float64            \n",
      " 11  day                     594554 non-null  float64            \n",
      " 12  weekday                 594554 non-null  float64            \n",
      " 13  weekofyear              594554 non-null  UInt32             \n",
      " 14  month                   594554 non-null  float64            \n",
      " 15  hour                    594554 non-null  float64            \n",
      " 16  mois                    594554 non-null  object             \n",
      " 17  jourdelasemaine         594554 non-null  object             \n",
      " 18  numidcompteur           594554 non-null  int64              \n",
      " 19  lat                     594554 non-null  float64            \n",
      " 20  long                    594554 non-null  float64            \n",
      " 21  jourdegreve             594554 non-null  int64              \n",
      " 22  comptagehoraire_classe  594554 non-null  float64            \n",
      " 23  meteo                   594554 non-null  category           \n",
      " 24  meteo_cat               594554 non-null  category           \n",
      " 25  holiday                 594554 non-null  int64              \n",
      " 26  vacances_zone_c         594554 non-null  int64              \n",
      " 27  arrondissement          594554 non-null  int64              \n",
      "dtypes: UInt32(1), category(2), datetime64[ns, UTC](1), datetime64[ns](1), float64(10), int64(5), object(8)\n",
      "memory usage: 141.9+ MB\n"
     ]
    },
    {
     "data": {
      "text/plain": [
       "None"
      ]
     },
     "metadata": {},
     "output_type": "display_data"
    },
    {
     "data": {
      "text/html": [
       "<div>\n",
       "<style scoped>\n",
       "    .dataframe tbody tr th:only-of-type {\n",
       "        vertical-align: middle;\n",
       "    }\n",
       "\n",
       "    .dataframe tbody tr th {\n",
       "        vertical-align: top;\n",
       "    }\n",
       "\n",
       "    .dataframe thead th {\n",
       "        text-align: right;\n",
       "    }\n",
       "</style>\n",
       "<table border=\"1\" class=\"dataframe\">\n",
       "  <thead>\n",
       "    <tr style=\"text-align: right;\">\n",
       "      <th></th>\n",
       "      <th>mois</th>\n",
       "      <th>comptagehoraire</th>\n",
       "      <th>month</th>\n",
       "    </tr>\n",
       "  </thead>\n",
       "  <tbody>\n",
       "    <tr>\n",
       "      <th>4</th>\n",
       "      <td>Janvier</td>\n",
       "      <td>26.873155</td>\n",
       "      <td>1.0</td>\n",
       "    </tr>\n",
       "    <tr>\n",
       "      <th>3</th>\n",
       "      <td>Février</td>\n",
       "      <td>30.809625</td>\n",
       "      <td>2.0</td>\n",
       "    </tr>\n",
       "    <tr>\n",
       "      <th>8</th>\n",
       "      <td>Mars</td>\n",
       "      <td>31.437755</td>\n",
       "      <td>3.0</td>\n",
       "    </tr>\n",
       "    <tr>\n",
       "      <th>1</th>\n",
       "      <td>Avril</td>\n",
       "      <td>35.419327</td>\n",
       "      <td>4.0</td>\n",
       "    </tr>\n",
       "    <tr>\n",
       "      <th>7</th>\n",
       "      <td>Mai</td>\n",
       "      <td>34.562306</td>\n",
       "      <td>5.0</td>\n",
       "    </tr>\n",
       "    <tr>\n",
       "      <th>6</th>\n",
       "      <td>Juin</td>\n",
       "      <td>36.889876</td>\n",
       "      <td>6.0</td>\n",
       "    </tr>\n",
       "    <tr>\n",
       "      <th>5</th>\n",
       "      <td>Juillet</td>\n",
       "      <td>41.358161</td>\n",
       "      <td>7.0</td>\n",
       "    </tr>\n",
       "    <tr>\n",
       "      <th>0</th>\n",
       "      <td>Août</td>\n",
       "      <td>30.729305</td>\n",
       "      <td>8.0</td>\n",
       "    </tr>\n",
       "    <tr>\n",
       "      <th>11</th>\n",
       "      <td>Septembre</td>\n",
       "      <td>50.733956</td>\n",
       "      <td>9.0</td>\n",
       "    </tr>\n",
       "    <tr>\n",
       "      <th>10</th>\n",
       "      <td>Octobre</td>\n",
       "      <td>46.849424</td>\n",
       "      <td>10.0</td>\n",
       "    </tr>\n",
       "    <tr>\n",
       "      <th>9</th>\n",
       "      <td>Novembre</td>\n",
       "      <td>35.017613</td>\n",
       "      <td>11.0</td>\n",
       "    </tr>\n",
       "    <tr>\n",
       "      <th>2</th>\n",
       "      <td>Décembre</td>\n",
       "      <td>54.400987</td>\n",
       "      <td>12.0</td>\n",
       "    </tr>\n",
       "  </tbody>\n",
       "</table>\n",
       "</div>"
      ],
      "text/plain": [
       "           mois  comptagehoraire  month\n",
       "4      Janvier         26.873155    1.0\n",
       "3      Février         30.809625    2.0\n",
       "8         Mars         31.437755    3.0\n",
       "1        Avril         35.419327    4.0\n",
       "7          Mai         34.562306    5.0\n",
       "6         Juin         36.889876    6.0\n",
       "5      Juillet         41.358161    7.0\n",
       "0         Août         30.729305    8.0\n",
       "11   Septembre         50.733956    9.0\n",
       "10     Octobre         46.849424   10.0\n",
       "9     Novembre         35.017613   11.0\n",
       "2     Décembre         54.400987   12.0"
      ]
     },
     "metadata": {},
     "output_type": "display_data"
    },
    {
     "data": {
      "image/png": "[encoded data removed]",
      "text/plain": [
       "<Figure size 720x720 with 1 Axes>"
      ]
     },
     "metadata": {
      "needs_background": "light"
     },
     "output_type": "display_data"
    }
   ],
   "source": [
    "display(df.info())\n",
    "functions_to_apply = {\n",
    "    'comptagehoraire' : lambda comptage: comptage.mean(),\n",
    "    'month' : lambda month: month.mean()\n",
    "    }\n",
    "\n",
    "df4 = df.groupby('mois',as_index = False).agg(functions_to_apply)\n",
    "df4 = df4.sort_values(by='month', ascending=True)\n",
    "    \n",
    "display(df4)\n",
    "fig, ax = plt.subplots(figsize=(10,10))\n",
    "sns.barplot(x=df4.mois, y=df4[\"comptagehoraire\"], ax=ax)\n",
    "ax.set_xticklabels(ax.get_xticklabels(), rotation=40, ha=\"right\");"
   ]
  },
  {
   "cell_type": "code",
   "execution_count": 64,
   "metadata": {},
   "outputs": [
    {
     "data": {
      "text/html": [
       "<div>\n",
       "<style scoped>\n",
       "    .dataframe tbody tr th:only-of-type {\n",
       "        vertical-align: middle;\n",
       "    }\n",
       "\n",
       "    .dataframe tbody tr th {\n",
       "        vertical-align: top;\n",
       "    }\n",
       "\n",
       "    .dataframe thead th {\n",
       "        text-align: right;\n",
       "    }\n",
       "</style>\n",
       "<table border=\"1\" class=\"dataframe\">\n",
       "  <thead>\n",
       "    <tr style=\"text-align: right;\">\n",
       "      <th></th>\n",
       "      <th>jourdelasemaine</th>\n",
       "      <th>comptagehoraire</th>\n",
       "      <th>weekday</th>\n",
       "    </tr>\n",
       "  </thead>\n",
       "  <tbody>\n",
       "    <tr>\n",
       "      <th>2</th>\n",
       "      <td>Lundi</td>\n",
       "      <td>42.129940</td>\n",
       "      <td>0.0</td>\n",
       "    </tr>\n",
       "    <tr>\n",
       "      <th>3</th>\n",
       "      <td>Mardi</td>\n",
       "      <td>44.029717</td>\n",
       "      <td>1.0</td>\n",
       "    </tr>\n",
       "    <tr>\n",
       "      <th>4</th>\n",
       "      <td>Mercredi</td>\n",
       "      <td>43.495962</td>\n",
       "      <td>2.0</td>\n",
       "    </tr>\n",
       "    <tr>\n",
       "      <th>1</th>\n",
       "      <td>Jeudi</td>\n",
       "      <td>45.377361</td>\n",
       "      <td>3.0</td>\n",
       "    </tr>\n",
       "    <tr>\n",
       "      <th>6</th>\n",
       "      <td>Vendredi</td>\n",
       "      <td>43.390700</td>\n",
       "      <td>4.0</td>\n",
       "    </tr>\n",
       "    <tr>\n",
       "      <th>5</th>\n",
       "      <td>Samedi</td>\n",
       "      <td>30.612552</td>\n",
       "      <td>5.0</td>\n",
       "    </tr>\n",
       "    <tr>\n",
       "      <th>0</th>\n",
       "      <td>Dimanche</td>\n",
       "      <td>25.546292</td>\n",
       "      <td>6.0</td>\n",
       "    </tr>\n",
       "  </tbody>\n",
       "</table>\n",
       "</div>"
      ],
      "text/plain": [
       "  jourdelasemaine  comptagehoraire  weekday\n",
       "2           Lundi        42.129940      0.0\n",
       "3           Mardi        44.029717      1.0\n",
       "4        Mercredi        43.495962      2.0\n",
       "1           Jeudi        45.377361      3.0\n",
       "6        Vendredi        43.390700      4.0\n",
       "5          Samedi        30.612552      5.0\n",
       "0        Dimanche        25.546292      6.0"
      ]
     },
     "metadata": {},
     "output_type": "display_data"
    },
    {
     "data": {
      "image/png": "[encoded data removed]",
      "text/plain": [
       "<Figure size 504x504 with 1 Axes>"
      ]
     },
     "metadata": {
      "needs_background": "light"
     },
     "output_type": "display_data"
    }
   ],
   "source": [
    "functions_to_apply = {\n",
    "    'comptagehoraire' : lambda comptage: comptage.mean(),\n",
    "    'weekday' : lambda weekday: weekday.mean()\n",
    "    }\n",
    "\n",
    "df4 = df.groupby('jourdelasemaine',as_index = False).agg(functions_to_apply)\n",
    "df4 = df4.sort_values(by='weekday', ascending=True)\n",
    "    \n",
    "display(df4)\n",
    "fig, ax = plt.subplots(figsize=(10,10))\n",
    "sns.barplot(x=df4.jourdelasemaine, y=df4[\"comptagehoraire\"], ax=ax)\n",
    "ax.set_xticklabels(ax.get_xticklabels(), rotation=40, ha=\"right\");"
   ]
  },
  {
   "cell_type": "code",
   "execution_count": 65,
   "metadata": {},
   "outputs": [
    {
     "data": {
      "text/html": [
       "<div>\n",
       "<style scoped>\n",
       "    .dataframe tbody tr th:only-of-type {\n",
       "        vertical-align: middle;\n",
       "    }\n",
       "\n",
       "    .dataframe tbody tr th {\n",
       "        vertical-align: top;\n",
       "    }\n",
       "\n",
       "    .dataframe thead th {\n",
       "        text-align: right;\n",
       "    }\n",
       "</style>\n",
       "<table border=\"1\" class=\"dataframe\">\n",
       "  <thead>\n",
       "    <tr style=\"text-align: right;\">\n",
       "      <th></th>\n",
       "      <th>hour</th>\n",
       "      <th>comptagehoraire</th>\n",
       "    </tr>\n",
       "  </thead>\n",
       "  <tbody>\n",
       "    <tr>\n",
       "      <th>0</th>\n",
       "      <td>0.0</td>\n",
       "      <td>6.357520</td>\n",
       "    </tr>\n",
       "    <tr>\n",
       "      <th>1</th>\n",
       "      <td>1.0</td>\n",
       "      <td>3.956576</td>\n",
       "    </tr>\n",
       "    <tr>\n",
       "      <th>2</th>\n",
       "      <td>2.0</td>\n",
       "      <td>2.603738</td>\n",
       "    </tr>\n",
       "    <tr>\n",
       "      <th>3</th>\n",
       "      <td>3.0</td>\n",
       "      <td>2.991079</td>\n",
       "    </tr>\n",
       "    <tr>\n",
       "      <th>4</th>\n",
       "      <td>4.0</td>\n",
       "      <td>5.868330</td>\n",
       "    </tr>\n",
       "    <tr>\n",
       "      <th>5</th>\n",
       "      <td>5.0</td>\n",
       "      <td>17.384960</td>\n",
       "    </tr>\n",
       "    <tr>\n",
       "      <th>6</th>\n",
       "      <td>6.0</td>\n",
       "      <td>54.611286</td>\n",
       "    </tr>\n",
       "    <tr>\n",
       "      <th>7</th>\n",
       "      <td>7.0</td>\n",
       "      <td>82.013764</td>\n",
       "    </tr>\n",
       "    <tr>\n",
       "      <th>8</th>\n",
       "      <td>8.0</td>\n",
       "      <td>61.886211</td>\n",
       "    </tr>\n",
       "    <tr>\n",
       "      <th>9</th>\n",
       "      <td>9.0</td>\n",
       "      <td>40.516953</td>\n",
       "    </tr>\n",
       "    <tr>\n",
       "      <th>10</th>\n",
       "      <td>10.0</td>\n",
       "      <td>42.145435</td>\n",
       "    </tr>\n",
       "    <tr>\n",
       "      <th>11</th>\n",
       "      <td>11.0</td>\n",
       "      <td>45.212440</td>\n",
       "    </tr>\n",
       "    <tr>\n",
       "      <th>12</th>\n",
       "      <td>12.0</td>\n",
       "      <td>44.975943</td>\n",
       "    </tr>\n",
       "    <tr>\n",
       "      <th>13</th>\n",
       "      <td>13.0</td>\n",
       "      <td>45.712642</td>\n",
       "    </tr>\n",
       "    <tr>\n",
       "      <th>14</th>\n",
       "      <td>14.0</td>\n",
       "      <td>50.694680</td>\n",
       "    </tr>\n",
       "    <tr>\n",
       "      <th>15</th>\n",
       "      <td>15.0</td>\n",
       "      <td>65.096068</td>\n",
       "    </tr>\n",
       "    <tr>\n",
       "      <th>16</th>\n",
       "      <td>16.0</td>\n",
       "      <td>86.368410</td>\n",
       "    </tr>\n",
       "    <tr>\n",
       "      <th>17</th>\n",
       "      <td>17.0</td>\n",
       "      <td>90.810487</td>\n",
       "    </tr>\n",
       "    <tr>\n",
       "      <th>18</th>\n",
       "      <td>18.0</td>\n",
       "      <td>68.985670</td>\n",
       "    </tr>\n",
       "    <tr>\n",
       "      <th>19</th>\n",
       "      <td>19.0</td>\n",
       "      <td>42.223460</td>\n",
       "    </tr>\n",
       "    <tr>\n",
       "      <th>20</th>\n",
       "      <td>20.0</td>\n",
       "      <td>28.499677</td>\n",
       "    </tr>\n",
       "    <tr>\n",
       "      <th>21</th>\n",
       "      <td>21.0</td>\n",
       "      <td>23.533463</td>\n",
       "    </tr>\n",
       "    <tr>\n",
       "      <th>22</th>\n",
       "      <td>22.0</td>\n",
       "      <td>17.744531</td>\n",
       "    </tr>\n",
       "    <tr>\n",
       "      <th>23</th>\n",
       "      <td>23.0</td>\n",
       "      <td>10.630693</td>\n",
       "    </tr>\n",
       "  </tbody>\n",
       "</table>\n",
       "</div>"
      ],
      "text/plain": [
       "    hour  comptagehoraire\n",
       "0    0.0         6.357520\n",
       "1    1.0         3.956576\n",
       "2    2.0         2.603738\n",
       "3    3.0         2.991079\n",
       "4    4.0         5.868330\n",
       "5    5.0        17.384960\n",
       "6    6.0        54.611286\n",
       "7    7.0        82.013764\n",
       "8    8.0        61.886211\n",
       "9    9.0        40.516953\n",
       "10  10.0        42.145435\n",
       "11  11.0        45.212440\n",
       "12  12.0        44.975943\n",
       "13  13.0        45.712642\n",
       "14  14.0        50.694680\n",
       "15  15.0        65.096068\n",
       "16  16.0        86.368410\n",
       "17  17.0        90.810487\n",
       "18  18.0        68.985670\n",
       "19  19.0        42.223460\n",
       "20  20.0        28.499677\n",
       "21  21.0        23.533463\n",
       "22  22.0        17.744531\n",
       "23  23.0        10.630693"
      ]
     },
     "metadata": {},
     "output_type": "display_data"
    },
    {
     "data": {
      "image/png": "[encoded data removed]",
      "text/plain": [
       "<Figure size 720x720 with 1 Axes>"
      ]
     },
     "metadata": {
      "needs_background": "light"
     },
     "output_type": "display_data"
    }
   ],
   "source": [
    "functions_to_apply = {\n",
    "    'comptagehoraire' : lambda comptage: comptage.mean()\n",
    "    }\n",
    "\n",
    "df4 = df.groupby('hour',as_index = False).agg(functions_to_apply)\n",
    "df4 = df4.sort_values(by='hour', ascending=True)\n",
    "    \n",
    "display(df4)\n",
    "fig, ax = plt.subplots(figsize=(10,10))\n",
    "sns.barplot(x=df4.hour, y=df4[\"comptagehoraire\"], ax=ax)\n",
    "ax.set_xticklabels(ax.get_xticklabels(), rotation=40, ha=\"right\");"
   ]
  },
  {
   "cell_type": "code",
   "execution_count": 22,
   "metadata": {},
   "outputs": [
    {
     "data": {
      "image/png": "[encoded data removed]",
      "text/plain": [
       "<Figure size 1440x720 with 3 Axes>"
      ]
     },
     "metadata": {
      "needs_background": "light"
     },
     "output_type": "display_data"
    }
   ],
   "source": [
    "functions_to_apply = {\n",
    "    'comptagehoraire' : lambda comptage: comptage.mean()\n",
    "    }\n",
    "fig, (ax1, ax2,ax3) = plt.subplots(1, 3, figsize=(20,10))\n",
    "dfgrev = df.groupby('jourdegreve',as_index = False).agg(functions_to_apply)\n",
    "    \n",
    "sns.barplot(x=dfgrev.jourdegreve, y=dfgrev[\"comptagehoraire\"], ax=ax1)\n",
    "ax1.set_xticklabels(ax1.get_xticklabels(), rotation=40, ha=\"right\");\n",
    "ax1.set_title(\"Jour de grève\")\n",
    "ax1.set_ylabel('Nombre moyen de passage par heure')\n",
    "ax1.set_xlabel('')\n",
    "\n",
    "functions_to_apply = {\n",
    "    'comptagehoraire' : lambda comptage: comptage.mean()\n",
    "    }\n",
    "dfvacances = df.groupby('vacances_zone_c',as_index = False).agg(functions_to_apply)    \n",
    "sns.barplot(x=dfvacances.vacances_zone_c, y=dfvacances[\"comptagehoraire\"], ax=ax2)\n",
    "ax2.set_xticklabels(ax2.get_xticklabels(), rotation=40, ha=\"right\")\n",
    "ax2.set_title(\"Vacances Scolaire\")\n",
    "ax2.set_ylabel('Nombre moyen de passage par heure')\n",
    "ax2.set_xlabel('')\n",
    "\n",
    "functions_to_apply = {\n",
    "    'comptagehoraire' : lambda comptage: comptage.mean()\n",
    "    }\n",
    "\n",
    "dfferie = df.groupby('holiday',as_index = False).agg(functions_to_apply)\n",
    "    \n",
    "sns.barplot(x=dfferie.holiday, y=dfferie[\"comptagehoraire\"], ax=ax3)\n",
    "ax3.set_xticklabels(ax3.get_xticklabels(), rotation=40, ha=\"right\")\n",
    "ax3.set_title(\"Jours Fériés\")\n",
    "ax3.set_ylabel('Nombre moyen de passage par heure')\n",
    "ax3.set_xlabel('')\n",
    "\n",
    "\n",
    "plt.show()"
   ]
  },
  {
   "cell_type": "code",
   "execution_count": 69,
   "metadata": {},
   "outputs": [
    {
     "data": {
      "text/html": [
       "<div>\n",
       "<style scoped>\n",
       "    .dataframe tbody tr th:only-of-type {\n",
       "        vertical-align: middle;\n",
       "    }\n",
       "\n",
       "    .dataframe tbody tr th {\n",
       "        vertical-align: top;\n",
       "    }\n",
       "\n",
       "    .dataframe thead th {\n",
       "        text-align: right;\n",
       "    }\n",
       "</style>\n",
       "<table border=\"1\" class=\"dataframe\">\n",
       "  <thead>\n",
       "    <tr style=\"text-align: right;\">\n",
       "      <th></th>\n",
       "      <th>vacances_zone_c</th>\n",
       "      <th>comptagehoraire</th>\n",
       "    </tr>\n",
       "  </thead>\n",
       "  <tbody>\n",
       "    <tr>\n",
       "      <th>0</th>\n",
       "      <td>0</td>\n",
       "      <td>42.431688</td>\n",
       "    </tr>\n",
       "    <tr>\n",
       "      <th>1</th>\n",
       "      <td>1</td>\n",
       "      <td>32.828979</td>\n",
       "    </tr>\n",
       "  </tbody>\n",
       "</table>\n",
       "</div>"
      ],
      "text/plain": [
       "   vacances_zone_c  comptagehoraire\n",
       "0                0        42.431688\n",
       "1                1        32.828979"
      ]
     },
     "metadata": {},
     "output_type": "display_data"
    },
    {
     "data": {
      "image/png": "[encoded data removed]",
      "text/plain": [
       "<Figure size 720x720 with 1 Axes>"
      ]
     },
     "metadata": {
      "needs_background": "light"
     },
     "output_type": "display_data"
    }
   ],
   "source": [
    "functions_to_apply = {\n",
    "    'comptagehoraire' : lambda comptage: comptage.mean()\n",
    "    }\n",
    "\n",
    "df4 = df.groupby('vacances_zone_c',as_index = False).agg(functions_to_apply)\n",
    "    \n",
    "display(df4)\n",
    "fig, ax = plt.subplots(figsize=(10,10))\n",
    "sns.barplot(x=df4.vacances_zone_c, y=df4[\"comptagehoraire\"], ax=ax)\n",
    "ax.set_xticklabels(ax.get_xticklabels(), rotation=40, ha=\"right\"); "
   ]
  },
  {
   "cell_type": "code",
   "execution_count": 70,
   "metadata": {},
   "outputs": [
    {
     "data": {
      "text/html": [
       "<div>\n",
       "<style scoped>\n",
       "    .dataframe tbody tr th:only-of-type {\n",
       "        vertical-align: middle;\n",
       "    }\n",
       "\n",
       "    .dataframe tbody tr th {\n",
       "        vertical-align: top;\n",
       "    }\n",
       "\n",
       "    .dataframe thead th {\n",
       "        text-align: right;\n",
       "    }\n",
       "</style>\n",
       "<table border=\"1\" class=\"dataframe\">\n",
       "  <thead>\n",
       "    <tr style=\"text-align: right;\">\n",
       "      <th></th>\n",
       "      <th>holiday</th>\n",
       "      <th>comptagehoraire</th>\n",
       "    </tr>\n",
       "  </thead>\n",
       "  <tbody>\n",
       "    <tr>\n",
       "      <th>0</th>\n",
       "      <td>0</td>\n",
       "      <td>39.784988</td>\n",
       "    </tr>\n",
       "    <tr>\n",
       "      <th>1</th>\n",
       "      <td>1</td>\n",
       "      <td>20.793892</td>\n",
       "    </tr>\n",
       "  </tbody>\n",
       "</table>\n",
       "</div>"
      ],
      "text/plain": [
       "   holiday  comptagehoraire\n",
       "0        0        39.784988\n",
       "1        1        20.793892"
      ]
     },
     "metadata": {},
     "output_type": "display_data"
    },
    {
     "data": {
      "image/png": "[encoded data removed]",
      "text/plain": [
       "<Figure size 720x720 with 1 Axes>"
      ]
     },
     "metadata": {
      "needs_background": "light"
     },
     "output_type": "display_data"
    }
   ],
   "source": [
    "functions_to_apply = {\n",
    "    'comptagehoraire' : lambda comptage: comptage.mean()\n",
    "    }\n",
    "\n",
    "df4 = df.groupby('holiday',as_index = False).agg(functions_to_apply)\n",
    "    \n",
    "display(df4)\n",
    "fig, ax = plt.subplots(figsize=(10,10))\n",
    "sns.barplot(x=df4.holiday, y=df4[\"comptagehoraire\"], ax=ax)\n",
    "ax.set_xticklabels(ax.get_xticklabels(), rotation=40, ha=\"right\"); "
   ]
  }
 ],
 "metadata": {
  "kernelspec": {
   "display_name": "Python 3",
   "language": "python",
   "name": "python3"
  },
  "language_info": {
   "codemirror_mode": {
    "name": "ipython",
    "version": 3
   },
   "file_extension": ".py",
   "mimetype": "text/x-python",
   "name": "python",
   "nbconvert_exporter": "python",
   "pygments_lexer": "ipython3",
   "version": "3.8.5"
  }
 },
 "nbformat": 4,
 "nbformat_minor": 2
}
